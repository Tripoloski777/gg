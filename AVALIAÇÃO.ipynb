{
  "nbformat": 4,
  "nbformat_minor": 0,
  "metadata": {
    "colab": {
      "provenance": [],
      "authorship_tag": "ABX9TyNQz2ge8lGOk6WZqSfNeU2r",
      "include_colab_link": true
    },
    "kernelspec": {
      "name": "python3",
      "display_name": "Python 3"
    },
    "language_info": {
      "name": "python"
    }
  },
  "cells": [
    {
      "cell_type": "markdown",
      "metadata": {
        "id": "view-in-github",
        "colab_type": "text"
      },
      "source": [
        "<a href=\"https://colab.research.google.com/github/Tripoloski777/gg/blob/main/AVALIA%C3%87%C3%83O.ipynb\" target=\"_parent\"><img src=\"https://colab.research.google.com/assets/colab-badge.svg\" alt=\"Open In Colab\"/></a>"
      ]
    },
    {
      "cell_type": "markdown",
      "source": [
        "#AVALIAÇÃO - QUESTIONÁRIO COLAB/PYTHON PROFESSOR NORI P.C.\n",
        "ATIVIDADE I"
      ],
      "metadata": {
        "id": "RrOHs8xRlKXI"
      }
    },
    {
      "cell_type": "code",
      "execution_count": 1,
      "metadata": {
        "colab": {
          "base_uri": "https://localhost:8080/"
        },
        "id": "L6P_3addivrP",
        "outputId": "f56933e1-9271-4bf9-ae17-daa426c8ca60"
      },
      "outputs": [
        {
          "output_type": "stream",
          "name": "stdout",
          "text": [
            "Digite seu nome: Kauã\n",
            "Olá, Kauã! Qual é sua dúvida, caro estudante?\n",
            "Escolha um assunto: Inglês, Matemática, História, Português? Português\n",
            "Tranquilo, vamos falar sobre Português! Você sabia que é considerada uma língua muito rica e complexa?\n"
          ]
        }
      ],
      "source": [
        "nome = input(\"Digite seu nome: \")\n",
        "print(f\"Olá, {nome}! Qual é sua dúvida, caro estudante?\")\n",
        "resposta = input(\"Escolha um assunto: Inglês, Matemática, História, Português? \").strip().lower()\n",
        "if resposta== \"inglês\":\n",
        "  print(\"Tranquilo, vamos falar sobre Inglês! Essa língua é muito importante!\")\n",
        "elif resposta == \"matemática\":\n",
        "  print(\"Vamos resolver algumas questões então!\")\n",
        "elif resposta == \"história\":\n",
        "  print(\"Quer saber algo histórico!\")\n",
        "elif resposta == \"português\":\n",
        "  print(\"Tranquilo, vamos falar sobre Português! Você sabia que é considerada uma língua muito rica e complexa?\")\n",
        "else:\n",
        "  print(\"Vou ficar devendo, estudante! Não entendi sua pergunta!\")"
      ]
    }
  ]
}